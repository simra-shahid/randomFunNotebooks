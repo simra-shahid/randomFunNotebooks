{
 "cells": [
  {
   "cell_type": "code",
   "execution_count": 31,
   "metadata": {},
   "outputs": [],
   "source": [
    "import numpy as np"
   ]
  },
  {
   "cell_type": "code",
   "execution_count": 32,
   "metadata": {},
   "outputs": [],
   "source": [
    "X=np.array([[1,0,1,0],[1,0,1,1],[0,1,0,1]])\n",
    "y=y=np.array([[1],[1],[0]])\n"
   ]
  },
  {
   "cell_type": "code",
   "execution_count": 33,
   "metadata": {},
   "outputs": [],
   "source": [
    "def sigmoid(x):\n",
    "    return (1/(1+np.exp(-x)))"
   ]
  },
  {
   "cell_type": "code",
   "execution_count": 34,
   "metadata": {},
   "outputs": [],
   "source": [
    "def derivative_sigmoid(x):\n",
    "    return x*(1-x)"
   ]
  },
  {
   "cell_type": "code",
   "execution_count": 41,
   "metadata": {},
   "outputs": [],
   "source": [
    "#Variable initialization\n",
    "epoch=10000 #Setting training iterations\n",
    "learning_rate=0.1 #Setting learning rate\n",
    "inputlayer_neurons = X.shape[1] #number of features in data set\n",
    "hiddenlayer_neurons = 3 #number of hidden layers neurons\n",
    "output_neurons = 1 #number of neurons at output layer\n",
    "\n"
   ]
  },
  {
   "cell_type": "code",
   "execution_count": 42,
   "metadata": {},
   "outputs": [],
   "source": [
    "#weight and bias initialization\n",
    "np.random.seed(1)\n",
    "wh=np.random.uniform(size=(inputlayer_neurons, hiddenlayer_neurons))\n",
    "bh=np.random.uniform(size=(1, hiddenlayer_neurons))\n",
    "wout=np.random.uniform(size=( hiddenlayer_neurons,output_neurons))\n",
    "bout=np.random.uniform(size=(1, output_neurons))"
   ]
  },
  {
   "cell_type": "code",
   "execution_count": 43,
   "metadata": {},
   "outputs": [
    {
     "name": "stdout",
     "output_type": "stream",
     "text": [
      "[[ 0.98731428]\n",
      " [ 0.98098521]\n",
      " [ 0.03321913]]\n"
     ]
    }
   ],
   "source": [
    "\n",
    "for i in range (epoch):\n",
    "    \n",
    "    #Forward Propagation\n",
    "\n",
    "    #Linear Transformation\n",
    "    hidden_layer_input=np.dot(X, wh)+bh\n",
    "    output_layer_input=np.dot(hidden_layer_activation, wout)+bout\n",
    "\n",
    "    #non-linear Transformation\n",
    "    hidden_layer_activation=sigmoid(hidden_layer_input)\n",
    "    output=sigmoid(output_layer_input)\n",
    "\n",
    "\n",
    "    #Backward Propagation\n",
    "\n",
    "    #compare with actual output\n",
    "    error_in_output=y-output\n",
    "\n",
    "    #Compute slope/ gradient of hidden and output layer\n",
    "\n",
    "    slope_output_layer=derivative_sigmoid(output)\n",
    "    slope_hidden_layer=derivative_sigmoid(hidden_layer_activation)\n",
    "\n",
    "\n",
    "\n",
    "    #compute the change factor\n",
    "\n",
    "    d_output=error_in_output*slope_output_layer\n",
    "\n",
    "\n",
    "    #Error in hidden layer\n",
    "    error_hidden_layer= np.dot(d_output, wout.T)\n",
    "\n",
    "    d_hidden_layer=error_hidden_layer*slope_hidden_layer\n",
    "\n",
    "    #Update the weights\n",
    "\n",
    "    wout+= np.dot(hidden_layer_activation.T, d_output)* learning_rate\n",
    "    wh+=np.dot(X.T, d_hidden_layer)* learning_rate\n",
    "\n",
    "    #Update bias\n",
    "\n",
    "    bout+=np.sum(d_output, axis=0, keepdims=True)*learning_rate\n",
    "    bh+=np.sum(d_hidden_layer, axis=0, keepdims=True)*learning_rate\n",
    "\n",
    "print(output)"
   ]
  }
 ],
 "metadata": {
  "kernelspec": {
   "display_name": "Python 3",
   "language": "python",
   "name": "python3"
  },
  "language_info": {
   "codemirror_mode": {
    "name": "ipython",
    "version": 3
   },
   "file_extension": ".py",
   "mimetype": "text/x-python",
   "name": "python",
   "nbconvert_exporter": "python",
   "pygments_lexer": "ipython3",
   "version": "3.6.3"
  }
 },
 "nbformat": 4,
 "nbformat_minor": 2
}
