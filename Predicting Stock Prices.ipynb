{
 "cells": [
  {
   "cell_type": "code",
   "execution_count": 53,
   "metadata": {},
   "outputs": [],
   "source": [
    "import pandas as pd\n",
    "import datetime\n",
    "from datetime import datetime\n",
    "from sklearn.linear_model import LinearRegression\n",
    "from sklearn.metrics import mean_absolute_error\n",
    "from sklearn.metrics import mean_squared_error\n",
    "import matplotlib.pyplot as plt\n",
    "import numpy as np\n",
    "import seaborn as sns\n",
    "\n",
    "%matplotlib inline"
   ]
  },
  {
   "cell_type": "code",
   "execution_count": 54,
   "metadata": {},
   "outputs": [
    {
     "name": "stdout",
     "output_type": "stream",
     "text": [
      "Index(['Date', 'Open', 'High', 'Low', 'Close', 'Volume', 'Adj Close'], dtype='object')\n"
     ]
    }
   ],
   "source": [
    "\n",
    "df = pd.read_csv(\"sphist1.csv\")\n",
    "df[\"Date\"] = pd.to_datetime(df[\"Date\"])\n",
    "df = df.sort_values(\"Date\")\n",
    "df = df.reset_index(drop=True)\n",
    "print(df.columns)"
   ]
  },
  {
   "cell_type": "code",
   "execution_count": 55,
   "metadata": {},
   "outputs": [
    {
     "data": {
      "text/html": [
       "<div>\n",
       "<table border=\"1\" class=\"dataframe\">\n",
       "  <thead>\n",
       "    <tr style=\"text-align: right;\">\n",
       "      <th></th>\n",
       "      <th>Date</th>\n",
       "      <th>Open</th>\n",
       "      <th>High</th>\n",
       "      <th>Low</th>\n",
       "      <th>Close</th>\n",
       "      <th>Volume</th>\n",
       "      <th>Adj Close</th>\n",
       "      <th>Date in word</th>\n",
       "    </tr>\n",
       "  </thead>\n",
       "  <tbody>\n",
       "    <tr>\n",
       "      <th>0</th>\n",
       "      <td>1950-01-03</td>\n",
       "      <td>16.66</td>\n",
       "      <td>16.66</td>\n",
       "      <td>16.66</td>\n",
       "      <td>16.66</td>\n",
       "      <td>1260000.0</td>\n",
       "      <td>16.66</td>\n",
       "      <td>Jan 03, 1950</td>\n",
       "    </tr>\n",
       "    <tr>\n",
       "      <th>1</th>\n",
       "      <td>1950-01-04</td>\n",
       "      <td>16.85</td>\n",
       "      <td>16.85</td>\n",
       "      <td>16.85</td>\n",
       "      <td>16.85</td>\n",
       "      <td>1890000.0</td>\n",
       "      <td>16.85</td>\n",
       "      <td>Jan 04, 1950</td>\n",
       "    </tr>\n",
       "    <tr>\n",
       "      <th>2</th>\n",
       "      <td>1950-01-05</td>\n",
       "      <td>16.93</td>\n",
       "      <td>16.93</td>\n",
       "      <td>16.93</td>\n",
       "      <td>16.93</td>\n",
       "      <td>2550000.0</td>\n",
       "      <td>16.93</td>\n",
       "      <td>Jan 05, 1950</td>\n",
       "    </tr>\n",
       "    <tr>\n",
       "      <th>3</th>\n",
       "      <td>1950-01-06</td>\n",
       "      <td>16.98</td>\n",
       "      <td>16.98</td>\n",
       "      <td>16.98</td>\n",
       "      <td>16.98</td>\n",
       "      <td>2010000.0</td>\n",
       "      <td>16.98</td>\n",
       "      <td>Jan 06, 1950</td>\n",
       "    </tr>\n",
       "    <tr>\n",
       "      <th>4</th>\n",
       "      <td>1950-01-09</td>\n",
       "      <td>17.08</td>\n",
       "      <td>17.08</td>\n",
       "      <td>17.08</td>\n",
       "      <td>17.08</td>\n",
       "      <td>2520000.0</td>\n",
       "      <td>17.08</td>\n",
       "      <td>Jan 09, 1950</td>\n",
       "    </tr>\n",
       "  </tbody>\n",
       "</table>\n",
       "</div>"
      ],
      "text/plain": [
       "        Date   Open   High    Low  Close     Volume  Adj Close  Date in word\n",
       "0 1950-01-03  16.66  16.66  16.66  16.66  1260000.0      16.66  Jan 03, 1950\n",
       "1 1950-01-04  16.85  16.85  16.85  16.85  1890000.0      16.85  Jan 04, 1950\n",
       "2 1950-01-05  16.93  16.93  16.93  16.93  2550000.0      16.93  Jan 05, 1950\n",
       "3 1950-01-06  16.98  16.98  16.98  16.98  2010000.0      16.98  Jan 06, 1950\n",
       "4 1950-01-09  17.08  17.08  17.08  17.08  2520000.0      17.08  Jan 09, 1950"
      ]
     },
     "execution_count": 55,
     "metadata": {},
     "output_type": "execute_result"
    }
   ],
   "source": [
    "df[\"Date in word\"]=df[\"Date\"].apply( lambda date: date.strftime(\"%b %d, %Y\"))\n",
    "df.head()"
   ]
  },
  {
   "cell_type": "markdown",
   "metadata": {},
   "source": [
    "## Making Feature Columns"
   ]
  },
  {
   "cell_type": "code",
   "execution_count": 56,
   "metadata": {},
   "outputs": [],
   "source": [
    "Past_5_ave_list = []\n",
    "Past_5_std_list = []\n",
    "Past_5_ave_vol_list = []\n",
    "Past_5_std_vol_list=[]\n",
    "Past_30_ave_list = []\n",
    "Past_30_std_list = []\n",
    "Past_30_ave_vol_list = []\n",
    "\n",
    "for index, row in df.iterrows():\n",
    "    if index < 5:\n",
    "        Past_5_ave_list.append(0)\n",
    "        Past_5_std_list.append(0)\n",
    "        Past_5_ave_vol_list.append(0)\n",
    "        Past_5_std_vol_list.append(0)\n",
    "    if index < 30:\n",
    "        Past_30_ave_list.append(0)\n",
    "        Past_30_std_list.append(0)\n",
    "        Past_30_ave_vol_list.append(0)\n",
    "    if index >= 5:\n",
    "        i_5 = index - 5\n",
    "        last_5_ave = df[\"Close\"].iloc[i_5:index].mean()\n",
    "        last_5_std = df[\"Close\"].iloc[i_5:index].std()\n",
    "        last_5_ave_vol = df[\"Volume\"].iloc[i_5:index].mean()\n",
    "        last_5_ave_vol = df[\"Volume\"].iloc[i_5:index].std()\n",
    "        Past_5_ave_list.append(last_5_ave)\n",
    "        Past_5_std_list.append(last_5_std)\n",
    "        Past_5_ave_vol_list.append(last_5_ave_vol)\n",
    "        Past_5_std_vol_list.append( last_5_ave_vol)\n",
    "    if index >= 30:\n",
    "        i_30 = index - 30\n",
    "        last_30_ave = df[\"Close\"].iloc[i_30:index].mean()\n",
    "        Past_30_ave_list.append(last_30_ave)\n",
    "        Past_30_std = df[\"Close\"].iloc[i_30:index].std()\n",
    "        Past_30_std_list.append(Past_30_std)\n",
    "        last_30_ave_vol = df[\"Volume\"].iloc[i_30:index].mean()\n",
    "        Past_30_ave_vol_list.append(last_30_ave_vol)\n",
    "\n",
    "df[\"Past 5 Ave\"] = Past_5_ave_list\n",
    "df[\"Past 30 Ave\"] = Past_30_ave_list\n",
    "df[\"Past 5 Std\"] = Past_5_std_list\n",
    "df[\"Past 30 Std\"] = Past_30_std_list\n",
    "df[\"Past 5 Ave Volume\"] = Past_5_ave_vol_list\n",
    "df[\"Past 30 Ave Volume\"] = Past_30_ave_list\n",
    "df[\"Past 5 std Volume\"] = Past_5_std_vol_list\n",
    "\n"
   ]
  },
  {
   "cell_type": "code",
   "execution_count": 57,
   "metadata": {},
   "outputs": [],
   "source": [
    "# Creating new columns for the standard deviation of the last 5 days of the \"Past 5 Ave\" column\n",
    "Past_5_ave_std_list = []\n",
    "for index, row in df.iterrows():\n",
    "    if index < 5:\n",
    "        Past_5_ave_std_list.append(0)\n",
    "    if index >= 5:\n",
    "        i_5 = index - 5\n",
    "        last_5_ave_std = df[\"Past 5 Ave\"].iloc[i_5:index].std()\n",
    "        Past_5_ave_std_list.append(last_5_ave_std)\n",
    "df[\"Past 5 Ave Std\"] = Past_5_ave_std_list"
   ]
  },
  {
   "cell_type": "code",
   "execution_count": 58,
   "metadata": {},
   "outputs": [],
   "source": [
    "# # Creating new columns for previous 365 day \"Close\" (mean, standard deviation, min and max), \"Volume\" (mean)\n",
    "Past_365_ave_list = []\n",
    "Past_365_std_list = []\n",
    "Past_365_ave_vol_list = []\n",
    "Past_365_std_vol_list = []\n",
    "Past_365_max_list = []\n",
    "Past_365_min_list = []\n",
    "\n",
    "for index, row in df.iterrows():\n",
    "    if index < 365:\n",
    "        Past_365_ave_list.append(0)\n",
    "        Past_365_std_list.append(0)\n",
    "        Past_365_ave_vol_list.append(0)\n",
    "        Past_365_std_vol_list.append(0)\n",
    "        Past_365_max_list.append(0)\n",
    "        Past_365_min_list.append(0)\n",
    "    if index >= 365:\n",
    "        i_365 = index - 365\n",
    "        last_365_ave = df[\"Close\"].iloc[i_365:index].mean()\n",
    "        last_365_std = df[\"Close\"].iloc[i_365:index].std()\n",
    "        last_365_ave_vol = df[\"Volume\"].iloc[i_365:index].mean()\n",
    "        last_365_std_vol = df[\"Volume\"].iloc[i_365:index].std()\n",
    "        Past_365_max = df[\"Close\"].iloc[i_365:index].max()\n",
    "        Past_365_min = df[\"Close\"].iloc[i_365:index].min()\n",
    "        Past_365_ave_list.append(last_365_ave)\n",
    "        Past_365_std_list.append(last_365_std)\n",
    "        Past_365_ave_vol_list.append(last_365_ave_vol)\n",
    "        Past_365_std_vol_list.append(last_365_std_vol)\n",
    "        Past_365_max_list.append(Past_365_max)\n",
    "        Past_365_min_list.append(Past_365_min)\n",
    "\n",
    "df[\"Past 365 Ave\"] = Past_365_ave_list\n",
    "df[\"Past 365 Std\"] = Past_365_std_list\n",
    "df[\"Past 365 Ave Volume\"] = Past_365_ave_vol_list\n",
    "df[\"Past 365 Max\"] = Past_365_max_list\n",
    "df[\"Past 365 Min\"] = Past_365_min_list\n",
    "df[\"Past 365 Std Volume\"]=Past_365_std_vol_list"
   ]
  },
  {
   "cell_type": "code",
   "execution_count": 59,
   "metadata": {},
   "outputs": [],
   "source": [
    "# Creating columns for ratio of previous days \"Close\" vs. \"Past 365 Min\" and \"Past 365 Max\"  \n",
    "price_365_min_ratio_list = []\n",
    "price_365_max_ratio_list = []\n",
    "for index, row in df.iterrows():\n",
    "    if index < 366:\n",
    "        price_365_min_ratio_list.append(0)\n",
    "        price_365_max_ratio_list.append(0)\n",
    "    if index >= 366:\n",
    "        i_1 = index - 1\n",
    "        price_365_min_ratio = df[\"Close\"].iloc[i_1] / df[\"Past 365 Min\"].iloc[index]\n",
    "        price_365_max_ratio = df[\"Close\"].iloc[i_1] / df[\"Past 365 Max\"].iloc[index]\n",
    "        price_365_min_ratio_list.append(price_365_min_ratio)\n",
    "        price_365_max_ratio_list.append(price_365_max_ratio)\n",
    "df[\"Price 365 Max Ratio\"] = price_365_min_ratio_list\n",
    "df[\"Price 365 Min Ratio\"] = price_365_max_ratio_list"
   ]
  },
  {
   "cell_type": "code",
   "execution_count": 60,
   "metadata": {},
   "outputs": [],
   "source": [
    "df = df.reset_index(drop=True)\n"
   ]
  },
  {
   "cell_type": "code",
   "execution_count": 61,
   "metadata": {},
   "outputs": [],
   "source": [
    "#The ratio between the average volume for the past five days, and the average volume for the past year.\n",
    "\n",
    "price_365_avg_vol_ratio_list = []\n",
    "\n",
    "for index, row in df.iterrows():\n",
    "    if df[\"Past 365 Ave Volume\"].iloc[index]!=0:\n",
    "        price_365_avg_vol_ratio_list.append( df[\"Past 5 Ave Volume\"].iloc[index] / df[\"Past 365 Ave Volume\"].iloc[index] )\n",
    "    else:\n",
    "        price_365_avg_vol_ratio_list.append(0)\n",
    "        \n",
    "        \n",
    "df[\"Price 365 avg vol ratio\"] = price_365_avg_vol_ratio_list\n"
   ]
  },
  {
   "cell_type": "code",
   "execution_count": 62,
   "metadata": {},
   "outputs": [],
   "source": [
    "# Eliminating rows with 0 in new columns and NA values\n",
    "df = df[ df[\"Date\"] > datetime(year=1951, month=1, day=2)]\n",
    "df = df.dropna()"
   ]
  },
  {
   "cell_type": "code",
   "execution_count": 63,
   "metadata": {},
   "outputs": [],
   "source": [
    "# Splitting dataframe into train and test sets\n",
    "train = df[df[\"Date\"] < datetime(year=2013, month=1, day=1)]\n",
    "test = df[df[\"Date\"] >= datetime(year=2013, month=1, day=1)]"
   ]
  },
  {
   "cell_type": "code",
   "execution_count": null,
   "metadata": {},
   "outputs": [],
   "source": [
    "# Training a Linear Regression model\n",
    "\n",
    "lr = LinearRegression()\n",
    "cols = ['Past 5 Ave', 'Past 30 Ave', 'Past 5 Std',\n",
    "       'Past 30 Std', 'Past 5 Ave Volume', 'Past 30 Ave Volume',\n",
    "       'Past 5 std Volume', 'Past 5 Ave Std', 'Past 365 Ave', 'Past 365 Std',\n",
    "       'Past 365 Ave Volume', 'Past 365 Max', 'Past 365 Min',\n",
    "       'Past 365 Std Volume', 'Price 365 Max Ratio', 'Price 365 Min Ratio',\n",
    "       'Price 365 avg vol ratio']\n",
    "lr.fit(train[cols], train[\"Close\"])\n",
    "\n",
    "# Using the Linear Regression model to make predictions and determining error metric\n",
    "predictions = lr.predict(test[cols])\n",
    "\n",
    "\n",
    "mae = mean_absolute_error(test[\"Close\"], predictions)\n",
    "mse = mean_squared_error(test[\"Close\"], predictions)\n",
    "\n",
    "print(\"MAE : %f  MSE : %f\" %(mae,mse))\n",
    "print(test[\"Close\"].mean())\n"
   ]
  },
  {
   "cell_type": "markdown",
   "metadata": {},
   "source": [
    "We use Mean Absolute Error, also called MAE, as an error metric, because it will show you how \"close\" you were to the price in intuitive terms. Mean Squared Error, or MSE, is an alternative that is more commonly used, but makes it harder to intuitively tell how far off you are from the true price because it squares the error."
   ]
  },
  {
   "cell_type": "markdown",
   "metadata": {},
   "source": [
    "Our Mean Absolute Error is off by just over 15.91 points and our average closing price is just under 1875. This isn't a model we would want to use to actually make stock trades, but it isn't bad considering we only used features derived from the closing price and volume history."
   ]
  },
  {
   "cell_type": "code",
   "execution_count": null,
   "metadata": {},
   "outputs": [],
   "source": [
    "close = test[\"Close\"]\n",
    "date  = test[\"Date\"]\n",
    "fig = plt.figure(figsize=(10,5))\n",
    "plt.plot(date, close, c='red')\n",
    "plt.plot(date, predictions, c='blue')\n",
    "plt.xticks(rotation=45)\n",
    "plt.xlabel(\"Date\")\n",
    "plt.ylabel(\"Closing Price\")\n",
    "plt.title(\"Actual vs. Predicted Closing Prices\")\n",
    "plt.show()"
   ]
  },
  {
   "cell_type": "markdown",
   "metadata": {},
   "source": [
    "## Lets try improving our model"
   ]
  },
  {
   "cell_type": "markdown",
   "metadata": {},
   "source": [
    "Accuracy would improve greatly by making predictions only one day ahead. For example, train a model using data from 1951-01-03 to 2013-01-02, make predictions for 2013-01-03, and then train another model using data from 1951-01-03 to 2013-01-03, make predictions for 2013-01-04, and so on. This more closely simulates what you'd do if you were trading using the algorithm."
   ]
  },
  {
   "cell_type": "code",
   "execution_count": 66,
   "metadata": {},
   "outputs": [
    {
     "data": {
      "text/plain": [
       "(array([15602]),)"
      ]
     },
     "execution_count": 66,
     "metadata": {},
     "output_type": "execute_result"
    }
   ],
   "source": [
    "np.where(df[\"Date\"] == datetime(year=2013, month=1, day=3))"
   ]
  },
  {
   "cell_type": "code",
   "execution_count": 67,
   "metadata": {},
   "outputs": [],
   "source": [
    "cols = ['Past 5 Ave', 'Past 30 Ave', 'Past 5 Std',\n",
    "       'Past 30 Std', 'Past 5 Ave Volume', 'Past 30 Ave Volume',\n",
    "       'Past 5 std Volume', 'Past 5 Ave Std', 'Past 365 Ave', 'Past 365 Std',\n",
    "       'Past 365 Ave Volume', 'Past 365 Max', 'Past 365 Min',\n",
    "       'Past 365 Std Volume', 'Price 365 Max Ratio', 'Price 365 Min Ratio',\n",
    "       'Price 365 avg vol ratio']"
   ]
  },
  {
   "cell_type": "code",
   "execution_count": 68,
   "metadata": {},
   "outputs": [
    {
     "ename": "IndexError",
     "evalue": "single positional indexer is out-of-bounds",
     "output_type": "error",
     "traceback": [
      "\u001b[0;31m---------------------------------------------------------------------------\u001b[0m",
      "\u001b[0;31mIndexError\u001b[0m                                Traceback (most recent call last)",
      "\u001b[0;32m<ipython-input-68-675d99a5dde1>\u001b[0m in \u001b[0;36m<module>\u001b[0;34m()\u001b[0m\n\u001b[1;32m     13\u001b[0m     \u001b[0;32mif\u001b[0m \u001b[0mindex\u001b[0m\u001b[0;34m>\u001b[0m\u001b[0;36m15602\u001b[0m\u001b[0;34m:\u001b[0m\u001b[0;34m\u001b[0m\u001b[0m\n\u001b[1;32m     14\u001b[0m         \u001b[0mtrain\u001b[0m \u001b[0;34m=\u001b[0m \u001b[0mdf\u001b[0m\u001b[0;34m.\u001b[0m\u001b[0miloc\u001b[0m\u001b[0;34m[\u001b[0m\u001b[0;34m:\u001b[0m\u001b[0mindex\u001b[0m\u001b[0;34m]\u001b[0m\u001b[0;34m\u001b[0m\u001b[0m\n\u001b[0;32m---> 15\u001b[0;31m         \u001b[0mtest\u001b[0m  \u001b[0;34m=\u001b[0m \u001b[0mdf\u001b[0m\u001b[0;34m.\u001b[0m\u001b[0miloc\u001b[0m\u001b[0;34m[\u001b[0m\u001b[0mindex\u001b[0m\u001b[0;34m]\u001b[0m\u001b[0;34m\u001b[0m\u001b[0m\n\u001b[0m\u001b[1;32m     16\u001b[0m         \u001b[0mclose\u001b[0m\u001b[0;34m.\u001b[0m\u001b[0mappend\u001b[0m\u001b[0;34m(\u001b[0m\u001b[0mtest\u001b[0m\u001b[0;34m[\u001b[0m\u001b[0;34m\"Close\"\u001b[0m\u001b[0;34m]\u001b[0m\u001b[0;34m)\u001b[0m\u001b[0;34m\u001b[0m\u001b[0m\n\u001b[1;32m     17\u001b[0m         \u001b[0mtest\u001b[0m \u001b[0;34m=\u001b[0m \u001b[0mtest\u001b[0m\u001b[0;34m[\u001b[0m\u001b[0;34m:\u001b[0m\u001b[0;34m,\u001b[0m \u001b[0mnp\u001b[0m\u001b[0;34m.\u001b[0m\u001b[0mnewaxis\u001b[0m\u001b[0;34m]\u001b[0m\u001b[0;34m\u001b[0m\u001b[0m\n",
      "\u001b[0;32m/opt/conda/lib/python3.6/site-packages/pandas/core/indexing.py\u001b[0m in \u001b[0;36m__getitem__\u001b[0;34m(self, key)\u001b[0m\n\u001b[1;32m   1310\u001b[0m             \u001b[0;32mreturn\u001b[0m \u001b[0mself\u001b[0m\u001b[0;34m.\u001b[0m\u001b[0m_getitem_tuple\u001b[0m\u001b[0;34m(\u001b[0m\u001b[0mkey\u001b[0m\u001b[0;34m)\u001b[0m\u001b[0;34m\u001b[0m\u001b[0m\n\u001b[1;32m   1311\u001b[0m         \u001b[0;32melse\u001b[0m\u001b[0;34m:\u001b[0m\u001b[0;34m\u001b[0m\u001b[0m\n\u001b[0;32m-> 1312\u001b[0;31m             \u001b[0;32mreturn\u001b[0m \u001b[0mself\u001b[0m\u001b[0;34m.\u001b[0m\u001b[0m_getitem_axis\u001b[0m\u001b[0;34m(\u001b[0m\u001b[0mkey\u001b[0m\u001b[0;34m,\u001b[0m \u001b[0maxis\u001b[0m\u001b[0;34m=\u001b[0m\u001b[0;36m0\u001b[0m\u001b[0;34m)\u001b[0m\u001b[0;34m\u001b[0m\u001b[0m\n\u001b[0m\u001b[1;32m   1313\u001b[0m \u001b[0;34m\u001b[0m\u001b[0m\n\u001b[1;32m   1314\u001b[0m     \u001b[0;32mdef\u001b[0m \u001b[0m_getitem_axis\u001b[0m\u001b[0;34m(\u001b[0m\u001b[0mself\u001b[0m\u001b[0;34m,\u001b[0m \u001b[0mkey\u001b[0m\u001b[0;34m,\u001b[0m \u001b[0maxis\u001b[0m\u001b[0;34m=\u001b[0m\u001b[0;36m0\u001b[0m\u001b[0;34m)\u001b[0m\u001b[0;34m:\u001b[0m\u001b[0;34m\u001b[0m\u001b[0m\n",
      "\u001b[0;32m/opt/conda/lib/python3.6/site-packages/pandas/core/indexing.py\u001b[0m in \u001b[0;36m_getitem_axis\u001b[0;34m(self, key, axis)\u001b[0m\n\u001b[1;32m   1626\u001b[0m \u001b[0;34m\u001b[0m\u001b[0m\n\u001b[1;32m   1627\u001b[0m                 \u001b[0;31m# validate the location\u001b[0m\u001b[0;34m\u001b[0m\u001b[0;34m\u001b[0m\u001b[0m\n\u001b[0;32m-> 1628\u001b[0;31m                 \u001b[0mself\u001b[0m\u001b[0;34m.\u001b[0m\u001b[0m_is_valid_integer\u001b[0m\u001b[0;34m(\u001b[0m\u001b[0mkey\u001b[0m\u001b[0;34m,\u001b[0m \u001b[0maxis\u001b[0m\u001b[0;34m)\u001b[0m\u001b[0;34m\u001b[0m\u001b[0m\n\u001b[0m\u001b[1;32m   1629\u001b[0m \u001b[0;34m\u001b[0m\u001b[0m\n\u001b[1;32m   1630\u001b[0m             \u001b[0;32mreturn\u001b[0m \u001b[0mself\u001b[0m\u001b[0;34m.\u001b[0m\u001b[0m_get_loc\u001b[0m\u001b[0;34m(\u001b[0m\u001b[0mkey\u001b[0m\u001b[0;34m,\u001b[0m \u001b[0maxis\u001b[0m\u001b[0;34m=\u001b[0m\u001b[0maxis\u001b[0m\u001b[0;34m)\u001b[0m\u001b[0;34m\u001b[0m\u001b[0m\n",
      "\u001b[0;32m/opt/conda/lib/python3.6/site-packages/pandas/core/indexing.py\u001b[0m in \u001b[0;36m_is_valid_integer\u001b[0;34m(self, key, axis)\u001b[0m\n\u001b[1;32m   1540\u001b[0m         \u001b[0ml\u001b[0m \u001b[0;34m=\u001b[0m \u001b[0mlen\u001b[0m\u001b[0;34m(\u001b[0m\u001b[0max\u001b[0m\u001b[0;34m)\u001b[0m\u001b[0;34m\u001b[0m\u001b[0m\n\u001b[1;32m   1541\u001b[0m         \u001b[0;32mif\u001b[0m \u001b[0mkey\u001b[0m \u001b[0;34m>=\u001b[0m \u001b[0ml\u001b[0m \u001b[0;32mor\u001b[0m \u001b[0mkey\u001b[0m \u001b[0;34m<\u001b[0m \u001b[0;34m-\u001b[0m\u001b[0ml\u001b[0m\u001b[0;34m:\u001b[0m\u001b[0;34m\u001b[0m\u001b[0m\n\u001b[0;32m-> 1542\u001b[0;31m             \u001b[0;32mraise\u001b[0m \u001b[0mIndexError\u001b[0m\u001b[0;34m(\u001b[0m\u001b[0;34m\"single positional indexer is out-of-bounds\"\u001b[0m\u001b[0;34m)\u001b[0m\u001b[0;34m\u001b[0m\u001b[0m\n\u001b[0m\u001b[1;32m   1543\u001b[0m         \u001b[0;32mreturn\u001b[0m \u001b[0;32mTrue\u001b[0m\u001b[0;34m\u001b[0m\u001b[0m\n\u001b[1;32m   1544\u001b[0m \u001b[0;34m\u001b[0m\u001b[0m\n",
      "\u001b[0;31mIndexError\u001b[0m: single positional indexer is out-of-bounds"
     ]
    }
   ],
   "source": [
    "# Training a Linear Regression model\n",
    "\n",
    "\n",
    "lr1 = LinearRegression()\n",
    "df[\"Predicted Close\"]=0\n",
    "predictions=[]\n",
    "mae_list=[]\n",
    "close=[]\n",
    "predicted_close=[]\n",
    "for index,row in df.iterrows():\n",
    "    \n",
    "    # Splitting dataframe into train and test sets\n",
    "    if index>15602:\n",
    "        train = df.iloc[:index]\n",
    "        test  = df.iloc[index]\n",
    "        close.append(test[\"Close\"])\n",
    "        test = test[:, np.newaxis]\n",
    "        lr1.fit(train[cols], train[\"Close\"])\n",
    "        predict = lr1.predict(test[8:25,0].reshape(1,-1))\n",
    "        predictions.append(predict[0])\n",
    "        predicted_close.append(predict[0])\n",
    "        \n",
    "    else :\n",
    "        predictions.append(0)\n",
    "\n",
    "df[\"Predicted Close\"]=predictions\n",
    "mae=mean_absolute_error(close,predicted_close)\n",
    "print(mae)"
   ]
  },
  {
   "cell_type": "markdown",
   "metadata": {},
   "source": [
    "to do :\n",
    "-  You can also improve the algorithm used significantly. Try other techniques, like a random forest, and see if they perform better.\n",
    "\n",
    "-  You can also incorporate outside data, such as the weather in New York City (where most trading happens) the day before, and the amount of Twitter activity around certain stocks.\n",
    "\n",
    "-  You can also make the system real-time by writing an automated script to download the latest data when the market closes, and make predictions for the next day.\n",
    "\n",
    "-  Finally, you can make the system \"higher-resolution\". You're currently making daily predictions, but you could make hourly, minute-by-minute, or second by second predictions. This will require obtaining more data, though. You could also make predictions for individual stocks instead of the S&P500."
   ]
  },
  {
   "cell_type": "code",
   "execution_count": null,
   "metadata": {},
   "outputs": [],
   "source": [
    "test  = df.iloc[15602:]\n",
    "plt.scatter(test[\"Close\"], test[\"Predicted Close\"])\n",
    "plt.plot(test[\"Close\"], test[\"Predicted Close\"])\n",
    "plt.show()"
   ]
  },
  {
   "cell_type": "code",
   "execution_count": null,
   "metadata": {},
   "outputs": [],
   "source": []
  },
  {
   "cell_type": "code",
   "execution_count": null,
   "metadata": {},
   "outputs": [],
   "source": []
  }
 ],
 "metadata": {
  "kernelspec": {
   "display_name": "Python 3",
   "language": "python",
   "name": "python3"
  },
  "language_info": {
   "codemirror_mode": {
    "name": "ipython",
    "version": 3
   },
   "file_extension": ".py",
   "mimetype": "text/x-python",
   "name": "python",
   "nbconvert_exporter": "python",
   "pygments_lexer": "ipython3",
   "version": "3.6.3"
  }
 },
 "nbformat": 4,
 "nbformat_minor": 2
}
